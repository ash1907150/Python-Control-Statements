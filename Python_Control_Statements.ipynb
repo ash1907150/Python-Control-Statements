{
  "nbformat": 4,
  "nbformat_minor": 0,
  "metadata": {
    "colab": {
      "provenance": []
    },
    "kernelspec": {
      "name": "python3",
      "display_name": "Python 3"
    },
    "language_info": {
      "name": "python"
    }
  },
  "cells": [
    {
      "cell_type": "markdown",
      "source": [
        "# <center> Phase 01: Python Control Statements </center>\n",
        "\n",
        "### 1. Implementing Match Statements\n",
        "\n",
        "The `match` statement is a structural pattern matching feature introduced in Python 3.10. It allows for more readable and expressive code when dealing with multiple conditions.\n",
        "\n",
        "#### Syntax\n",
        "```python\n",
        "match variable:\n",
        "    case pattern1:\n",
        "        # code block\n",
        "    case pattern2:\n",
        "        # code block\n",
        "    case _:\n",
        "        # default code block\n",
        "```\n",
        "\n",
        "#### Examples\n",
        "1. **Simple Match**\n",
        "    ```python\n",
        "    status = 404\n",
        "\n",
        "    match status:\n",
        "        case 200:\n",
        "            print(\"OK\")\n",
        "        case 404:\n",
        "            print(\"Not Found\")\n",
        "        case 500:\n",
        "            print(\"Server Error\")\n",
        "        case _:\n",
        "            print(\"Unknown status\")\n",
        "    ```\n",
        "\n",
        "2. **Matching Tuples**\n",
        "    ```python\n",
        "    point = (0, 0)\n",
        "\n",
        "    match point:\n",
        "        case (0, 0):\n",
        "            print(\"Origin\")\n",
        "        case (x, 0):\n",
        "            print(f\"X-axis at {x}\")\n",
        "        case (0, y):\n",
        "            print(f\"Y-axis at {y}\")\n",
        "        case (x, y):\n",
        "            print(f\"Point at ({x}, {y})\")\n",
        "    ```\n",
        "\n",
        "3. **Matching with Guards**\n",
        "    ```python\n",
        "    user = {\"role\": \"admin\", \"name\": \"Alice\"}\n",
        "\n",
        "    match user:\n",
        "        case {\"role\": \"admin\"}:\n",
        "            print(\"Admin user\")\n",
        "        case {\"role\": \"guest\"}:\n",
        "            print(\"Guest user\")\n",
        "        case _ if \"name\" in user:\n",
        "            print(f\"User: {user['name']}\")\n",
        "        case _:\n",
        "            print(\"Unknown user\")\n",
        "    ```\n",
        "\n",
        "\n",
        "- **Readability**: Use `match` statements to improve readability over complex `if-elif-else` chains.\n",
        "- **Performance**: Be aware that pattern matching can sometimes be more efficient than multiple conditional checks.\n",
        "- **Use Cases**: Ideal for parsing complex data structures like JSON or dictionaries with varying formats.\n",
        "\n",
        "### 2. Implementing Nested Elif Statements\n",
        "\n",
        "#### Introduction\n",
        "Nested `elif` statements are useful for handling multiple conditions that require hierarchical checking.\n",
        "\n",
        "#### Syntax\n",
        "```python\n",
        "if condition1:\n",
        "    if condition1_1:\n",
        "        # code block\n",
        "    elif condition1_2:\n",
        "        # code block\n",
        "elif condition2:\n",
        "    if condition2_1:\n",
        "        # code block\n",
        "    elif condition2_2:\n",
        "        # code block\n",
        "else:\n",
        "    # default code block\n",
        "```\n",
        "\n",
        "#### Examples\n",
        "1. **Basic Nested Elif**\n",
        "    ```python\n",
        "    x = 10\n",
        "    y = 20\n",
        "\n",
        "    if x > 5:\n",
        "        if y > 15:\n",
        "            print(\"x is greater than 5 and y is greater than 15\")\n",
        "        elif y < 15:\n",
        "            print(\"x is greater than 5 and y is less than 15\")\n",
        "    elif x < 5:\n",
        "        if y > 15:\n",
        "            print(\"x is less than 5 and y is greater than 15\")\n",
        "        elif y < 15:\n",
        "            print(\"x is less than 5 and y is less than 15\")\n",
        "    else:\n",
        "        print(\"x is equal to 5\")\n",
        "    ```\n",
        "\n",
        "2. **Complex Conditions**\n",
        "    ```python\n",
        "    age = 30\n",
        "    income = 50000\n",
        "\n",
        "    if age < 18:\n",
        "        if income < 10000:\n",
        "            print(\"Minor with low income\")\n",
        "        elif income >= 10000:\n",
        "            print(\"Minor with high income\")\n",
        "    elif 18 <= age < 65:\n",
        "        if income < 10000:\n",
        "            print(\"Adult with low income\")\n",
        "        elif 10000 <= income < 50000:\n",
        "            print(\"Adult with middle income\")\n",
        "        else:\n",
        "            print(\"Adult with high income\")\n",
        "    else:\n",
        "        if income < 10000:\n",
        "            print(\"Senior with low income\")\n",
        "        elif 10000 <= income < 50000:\n",
        "            print(\"Senior with middle income\")\n",
        "        else:\n",
        "            print(\"Senior with high income\")\n",
        "    ```\n",
        "\n",
        "\n",
        "- **Clarity**: Ensure nested `elif` statements are clear and maintainable.\n",
        "- **Refactoring**: If conditions become too nested, consider refactoring into functions or using `match` statements for better readability.\n",
        "- **Logical Grouping**: Group related conditions logically to avoid confusion and errors.\n",
        "\n",
        "\n",
        "### 3. Implementing Iterators\n",
        "\n",
        "#### Introduction\n",
        "Iterators are objects in Python that allow traversing through all the elements of a collection or sequence.\n",
        "\n",
        "#### Syntax\n",
        "- **Creating an Iterator**:\n",
        "    ```python\n",
        "    iter_obj = iter(collection)\n",
        "    ```\n",
        "- **Using an Iterator**:\n",
        "    ```python\n",
        "    next(iter_obj)\n",
        "    ```\n",
        "\n",
        "#### Examples\n",
        "1. **Using Built-in Iterator**\n",
        "    ```python\n",
        "    my_list = [1, 2, 3, 4]\n",
        "    iter_obj = iter(my_list)\n",
        "\n",
        "    print(next(iter_obj))  # Output: 1\n",
        "    print(next(iter_obj))  # Output: 2\n",
        "    ```\n",
        "\n",
        "2. **Custom Iterator Class**\n",
        "    ```python\n",
        "    class MyRange:\n",
        "        def __init__(self, start, end):\n",
        "            self.current = start\n",
        "            self.end = end\n",
        "\n",
        "        def __iter__(self):\n",
        "            return self\n",
        "\n",
        "        def __next__(self):\n",
        "            if self.current >= self.end:\n",
        "                raise StopIteration\n",
        "            current = self.current\n",
        "            self.current += 1\n",
        "            return current\n",
        "\n",
        "    my_range = MyRange(1, 5)\n",
        "    for number in my_range:\n",
        "        print(number)  # Output: 1 2 3 4\n",
        "    ```\n",
        "\n",
        "- **Efficiency**: Iterators can improve memory efficiency by generating elements on-the-fly rather than storing entire collections in memory.\n",
        "- **Custom Iterators**: Use custom iterators to encapsulate complex iteration logic.\n",
        "- **Generators**: Consider using generators (`yield` keyword) for simpler and more readable code.\n",
        "\n",
        "### 4. Applying Break and Continue Statements\n",
        "\n",
        "The `break` and `continue` statements are used to control the flow of loops. The `break` statement exits the loop prematurely, while the `continue` statement skips the rest of the code inside the loop for the current iteration and moves to the next iteration.\n",
        "\n",
        "#### Syntax\n",
        "- **Break**:\n",
        "    ```python\n",
        "    for item in collection:\n",
        "        if condition:\n",
        "            break\n",
        "        # code block\n",
        "    ```\n",
        "- **Continue**:\n",
        "    ```python\n",
        "    for item in collection:\n",
        "        if condition:\n",
        "            continue\n",
        "        # code block\n",
        "    ```\n",
        "\n",
        "#### Examples\n",
        "1. **Using Break in a Loop**\n",
        "    ```python\n",
        "    for i in range(10):\n",
        "        if i == 5:\n",
        "            break\n",
        "        print(i)\n",
        "    # Output: 0 1 2 3 4\n",
        "    ```\n",
        "\n",
        "2. **Using Continue in a Loop**\n",
        "    ```python\n",
        "    for i in range(10):\n",
        "        if i % 2 == 0:\n",
        "            continue\n",
        "        print(i)\n",
        "    # Output: 1 3 5 7 9\n",
        "    ```\n",
        "\n",
        "3. **Nested Loops with Break**\n",
        "    ```python\n",
        "    for i in range(3):\n",
        "        for j in range(3):\n",
        "            if j == 1:\n",
        "                break\n",
        "            print(f\"i: {i}, j: {j}\")\n",
        "    # Output:\n",
        "    # i: 0, j: 0\n",
        "    # i: 1, j: 0\n",
        "    # i: 2, j: 0\n",
        "    ```\n",
        "\n",
        "4. **Nested Loops with Continue**\n",
        "    ```python\n",
        "    for i in range(3):\n",
        "        for j in range(3):\n",
        "            if j == 1:\n",
        "                continue\n",
        "            print(f\"i: {i}, j: {j}\")\n",
        "    # Output:\n",
        "    # i: 0, j: 0\n",
        "    # i: 0, j: 2\n",
        "    # i: 1, j: 0\n",
        "    # i: 1, j: 2\n",
        "    # i: 2, j: 0\n",
        "    # i: 2, j: 2\n",
        "    ```\n",
        "\n",
        "\n",
        "- **Break Usage**: Use `break` to exit loops when a condition is met, preventing unnecessary iterations.\n",
        "- **Continue Usage**: Use `continue` to skip the current iteration and proceed to the next one when certain conditions are met.\n",
        "- **Nested Loops**: When using `break` and `continue` in nested loops, be clear about which loop they are intended to control.\n",
        "\n",
        "\n",
        "### 5. Implementing If-Else Statements\n",
        "\n",
        "The `if-else` statement is used to execute code based on whether a condition is true or false.\n",
        "\n",
        "#### Syntax\n",
        "```python\n",
        "if condition:\n",
        "    # code block for true condition\n",
        "else:\n",
        "    # code block for false condition\n",
        "```\n",
        "\n",
        "#### Examples\n",
        "1. **Simple If-Else**\n",
        "    ```python\n",
        "    age = 18\n",
        "\n",
        "    if age >= 18:\n",
        "        print(\"You are an adult.\")\n",
        "    else:\n",
        "        print(\"You are a minor.\")\n",
        "    ```\n",
        "\n",
        "2. **If-Elif-Else**\n",
        "    ```python\n",
        "    score = 85\n",
        "\n",
        "    if score >= 90:\n",
        "        print(\"Grade: A\")\n",
        "    elif score >= 80:\n",
        "        print(\"Grade: B\")\n",
        "    elif score >= 70:\n",
        "        print(\"Grade: C\")\n",
        "    else:\n",
        "        print(\"Grade: F\")\n",
        "    ```\n",
        "\n",
        "3. **Nested If-Else**\n",
        "    ```python\n",
        "    num = 10\n",
        "\n",
        "    if num > 0:\n",
        "        if num % 2 == 0:\n",
        "            print(\"Positive even number\")\n",
        "        else:\n",
        "            print(\"Positive odd number\")\n",
        "    else:\n",
        "        if num % 2 == 0:\n",
        "            print(\"Negative even number\")\n",
        "        else:\n",
        "            print(\"Negative odd number\")\n",
        "    ```\n",
        "\n",
        "\n",
        "- **Readability**: Ensure that `if-else` statements are clear and readable. Avoid deep nesting.\n",
        "- **Boolean Logic**: Simplify conditions using boolean logic to make code more concise.\n",
        "- **Ternary Operator**: For simple conditional assignments, consider using the ternary operator for brevity:\n",
        "    ```python\n",
        "    result = \"Adult\" if age >= 18 else \"Minor\"\n",
        "    ```\n",
        "\n",
        "---\n",
        "\n",
        "### 6. Implementing While/Do-While Loops\n",
        "\n",
        "The `while` loop repeatedly executes a block of code as long as the condition is true. Python does not have a built-in `do-while` loop, but similar behavior can be mimicked.\n",
        "\n",
        "#### Syntax\n",
        "- **While Loop**:\n",
        "    ```python\n",
        "    while condition:\n",
        "        # code block\n",
        "    ```\n",
        "\n",
        "- **Mimicking Do-While Loop**:\n",
        "    ```python\n",
        "    while True:\n",
        "        # code block\n",
        "        if not condition:\n",
        "            break\n",
        "    ```\n",
        "\n",
        "#### Examples\n",
        "1. **Simple While Loop**\n",
        "    ```python\n",
        "    count = 0\n",
        "\n",
        "    while count < 5:\n",
        "        print(count)\n",
        "        count += 1\n",
        "    # Output: 0 1 2 3 4\n",
        "    ```\n",
        "\n",
        "2. **Do-While Loop Behavior**\n",
        "    ```python\n",
        "    count = 0\n",
        "\n",
        "    while True:\n",
        "        print(count)\n",
        "        count += 1\n",
        "        if count >= 5:\n",
        "            break\n",
        "    # Output: 0 1 2 3 4\n",
        "    ```\n",
        "\n",
        "3. **Using While with Else**\n",
        "    ```python\n",
        "    count = 0\n",
        "\n",
        "    while count < 5:\n",
        "        print(count)\n",
        "        count += 1\n",
        "    else:\n",
        "        print(\"Loop ended\")\n",
        "    # Output: 0 1 2 3 4\n",
        "    #         Loop ended\n",
        "    ```\n",
        "\n",
        "- **Condition Check**: Ensure that the loop condition will eventually become false to avoid infinite loops.\n",
        "- **Break in Do-While**: When mimicking `do-while`, ensure that the `break` condition is well-defined to prevent infinite execution.\n",
        "- **Use Cases**: Use `while` loops for indefinite iteration when the number of iterations is not known beforehand.\n",
        "\n",
        "\n",
        "### 7. Implementing For Loops\n",
        "\n",
        "The `for` loop in Python is used for iterating over a sequence (such as a list, tuple, or string).\n",
        "\n",
        "#### Syntax\n",
        "```python\n",
        "for item in sequence:\n",
        "    # code block\n",
        "```\n",
        "\n",
        "#### Examples\n",
        "1. **Iterating Over a List**\n",
        "    ```python\n",
        "    fruits = [\"apple\", \"banana\", \"cherry\"]\n",
        "\n",
        "    for fruit in fruits:\n",
        "        print(fruit)\n",
        "    # Output: apple banana cherry\n",
        "    ```\n",
        "\n",
        "2. **Iterating Over a String**\n",
        "    ```python\n",
        "    word = \"hello\"\n",
        "\n",
        "    for letter in word:\n",
        "        print(letter)\n",
        "    # Output: h e l l o\n",
        "    ```\n",
        "\n",
        "3. **Using Range in For Loop**\n",
        "    ```python\n",
        "    for i in range(5):\n",
        "        print(i)\n",
        "    # Output: 0 1 2 3 4\n",
        "    ```\n",
        "\n",
        "4. **Nested For Loops**\n",
        "    ```python\n",
        "    for i in range(3):\n",
        "        for j in range(2):\n",
        "            print(f\"i: {i}, j: {j}\")\n",
        "    # Output:\n",
        "    # i: 0, j: 0\n",
        "    # i: 0, j: 1\n",
        "    # i: 1, j: 0\n",
        "    # i: 1, j: 1\n",
        "    # i: 2, j: 0\n",
        "    # i: 2, j: 1\n",
        "    ```\n",
        "\n",
        "\n",
        "- **Sequences**: Use `for` loops for iterating over sequences where the number of iterations is known.\n",
        "- **Efficiency**: Be mindful of the efficiency, especially in nested loops.\n",
        "- **Itertools**: For advanced iteration patterns, consider using the `itertools` module for better performance and readability.\n",
        "\n",
        "\n",
        "### 8. Implementing the Range Function in Loops\n",
        "\n",
        "The `range` function generates a sequence of numbers, which is commonly used in loops for a specified number of iterations.\n",
        "\n",
        "#### Syntax\n",
        "```python\n",
        "range(stop)\n",
        "range(start, stop)\n",
        "range(start, stop, step)\n",
        "```\n",
        "\n",
        "#### Examples\n",
        "1. **Basic Range Usage**\n",
        "    ```python\n",
        "    for i in range(5):\n",
        "        print(i)\n",
        "    # Output: 0 1 2 3 4\n",
        "    ```\n",
        "\n",
        "2. **Range with Start and Stop**\n",
        "    ```python\n",
        "    for i in range(2, 6):\n",
        "        print(i)\n",
        "    # Output: 2 3 4 5\n",
        "    ```\n",
        "\n",
        "3. **Range with Step**\n",
        "    ```python\n",
        "    for i in range(1, 10, 2):\n",
        "        print(i)\n",
        "    # Output: 1 3 5 7 9\n",
        "    ```\n",
        "\n",
        "4. **Negative Step**\n",
        "    ```python\n",
        "    for i in range(10, 0, -2):\n",
        "        print(i)\n",
        "    # Output: 10 8 6 4 2\n",
        "    ```\n",
        "\n",
        "\n",
        "- **Memory Efficiency**: `range` is memory efficient as it generates numbers on the fly.\n",
        "- **Start and Stop**: Specify `start` and `stop` for customized ranges.\n",
        "- **Step**: Use the `step` parameter to skip values or reverse the range.\n",
        "\n"
      ],
      "metadata": {
        "id": "O7SZ7EfAp2oq"
      }
    },
    {
      "cell_type": "markdown",
      "source": [
        "# 1. Implement match statements"
      ],
      "metadata": {
        "id": "06tRqauNrMo6"
      }
    },
    {
      "cell_type": "markdown",
      "source": [
        "# Match Integer Values"
      ],
      "metadata": {
        "id": "MwC7rkE2qGX5"
      }
    },
    {
      "cell_type": "code",
      "execution_count": 188,
      "metadata": {
        "colab": {
          "base_uri": "https://localhost:8080/"
        },
        "id": "QFeMc11mp0K1",
        "outputId": "6005f86c-bc1d-46c2-8e21-74f129b5ec3d"
      },
      "outputs": [
        {
          "output_type": "stream",
          "name": "stdout",
          "text": [
            "Three\n"
          ]
        }
      ],
      "source": [
        "number = 3\n",
        "\n",
        "match number:\n",
        "    case 1:\n",
        "        print(\"One\")\n",
        "    case 2:\n",
        "        print(\"Two\")\n",
        "    case 3:\n",
        "        print(\"Three\")\n",
        "    case _:\n",
        "        print(\"Unknown number\")"
      ]
    },
    {
      "cell_type": "markdown",
      "source": [
        "# Match String Values"
      ],
      "metadata": {
        "id": "7gVkg_GpqJV6"
      }
    },
    {
      "cell_type": "code",
      "source": [
        "fruit = \"apple\"\n",
        "\n",
        "match fruit:\n",
        "    case \"apple\":\n",
        "        print(\"Apple\")\n",
        "    case \"banana\":\n",
        "        print(\"Banana\")\n",
        "    case \"cherry\":\n",
        "        print(\"Cherry\")\n",
        "    case _:\n",
        "        print(\"Unknown fruit\")\n"
      ],
      "metadata": {
        "colab": {
          "base_uri": "https://localhost:8080/"
        },
        "id": "4ZrAi1BgqKlp",
        "outputId": "45cf2a76-64f6-4ebd-a012-2e9381527d2d"
      },
      "execution_count": 189,
      "outputs": [
        {
          "output_type": "stream",
          "name": "stdout",
          "text": [
            "Apple\n"
          ]
        }
      ]
    },
    {
      "cell_type": "markdown",
      "source": [
        "# Match Boolean Values"
      ],
      "metadata": {
        "id": "cCG7p8OAqMXp"
      }
    },
    {
      "cell_type": "code",
      "source": [
        "flag = True\n",
        "\n",
        "match flag:\n",
        "    case True:\n",
        "        print(\"Flag is True\")\n",
        "    case False:\n",
        "        print(\"Flag is False\")\n",
        "    case _:\n",
        "        print(\"Unknown flag\")\n"
      ],
      "metadata": {
        "colab": {
          "base_uri": "https://localhost:8080/"
        },
        "id": "kKmaFDvQqNwU",
        "outputId": "c0854282-fce0-4091-b131-3f3209ae6ab6"
      },
      "execution_count": 190,
      "outputs": [
        {
          "output_type": "stream",
          "name": "stdout",
          "text": [
            "Flag is True\n"
          ]
        }
      ]
    },
    {
      "cell_type": "markdown",
      "source": [
        "# Match Tuples"
      ],
      "metadata": {
        "id": "i4LhZG4gqPXZ"
      }
    },
    {
      "cell_type": "code",
      "source": [
        "coordinates = (0, 1)\n",
        "\n",
        "match coordinates:\n",
        "    case (0, 0):\n",
        "        print(\"Origin\")\n",
        "    case (0, y):\n",
        "        print(f\"Y-axis at {y}\")\n",
        "    case (x, 0):\n",
        "        print(f\"X-axis at {x}\")\n",
        "    case (x, y):\n",
        "        print(f\"Point at ({x}, {y})\")\n"
      ],
      "metadata": {
        "colab": {
          "base_uri": "https://localhost:8080/"
        },
        "id": "53ciPiwLqQfY",
        "outputId": "f2d642a6-17cb-4799-8d89-36aa61a680c1"
      },
      "execution_count": 191,
      "outputs": [
        {
          "output_type": "stream",
          "name": "stdout",
          "text": [
            "Y-axis at 1\n"
          ]
        }
      ]
    },
    {
      "cell_type": "markdown",
      "source": [
        "# Match Lists"
      ],
      "metadata": {
        "id": "lNn416uqqR5h"
      }
    },
    {
      "cell_type": "code",
      "source": [
        "items = [1, 2, 3]\n",
        "\n",
        "match items:\n",
        "    case []:\n",
        "        print(\"Empty list\")\n",
        "    case [1]:\n",
        "        print(\"Single item list with 1\")\n",
        "    case [1, 2, 3]:\n",
        "        print(\"List with 1, 2, 3\")\n",
        "    case _:\n",
        "        print(\"Unknown list\")\n"
      ],
      "metadata": {
        "colab": {
          "base_uri": "https://localhost:8080/"
        },
        "id": "FcO3fVpwqTb8",
        "outputId": "3e791508-d80f-44c6-b087-b5c8a99adbd6"
      },
      "execution_count": 192,
      "outputs": [
        {
          "output_type": "stream",
          "name": "stdout",
          "text": [
            "List with 1, 2, 3\n"
          ]
        }
      ]
    },
    {
      "cell_type": "markdown",
      "source": [
        "# Match Dictionaries"
      ],
      "metadata": {
        "id": "ULBgsHJlqVmp"
      }
    },
    {
      "cell_type": "code",
      "source": [
        "user = {\"name\": \"Alice\", \"role\": \"admin\"}\n",
        "\n",
        "match user:\n",
        "    case {\"name\": \"Alice\"}:\n",
        "        print(\"User Alice\")\n",
        "    case {\"role\": \"admin\"}:\n",
        "        print(\"Admin role\")\n",
        "    case _:\n",
        "        print(\"Unknown user\")\n"
      ],
      "metadata": {
        "colab": {
          "base_uri": "https://localhost:8080/"
        },
        "id": "wJDvWFsWqWzu",
        "outputId": "f4906892-5d6e-4e34-f2ff-beb5da2de09b"
      },
      "execution_count": 193,
      "outputs": [
        {
          "output_type": "stream",
          "name": "stdout",
          "text": [
            "User Alice\n"
          ]
        }
      ]
    },
    {
      "cell_type": "markdown",
      "source": [
        "# Match Class Instances"
      ],
      "metadata": {
        "id": "e9hXDSGFqYRl"
      }
    },
    {
      "cell_type": "code",
      "source": [
        "class Person:\n",
        "    def __init__(self, name, age):\n",
        "        self.name = name\n",
        "        self.age = age\n",
        "\n",
        "p = Person(\"Alice\", 30)\n",
        "\n",
        "match p:\n",
        "    case Person(name=\"Alice\", age=30):\n",
        "        print(\"Matched Alice\")\n",
        "    case Person(name=\"Bob\", age=25):\n",
        "        print(\"Matched Bob\")\n",
        "    case _:\n",
        "        print(\"Unknown person\")\n"
      ],
      "metadata": {
        "colab": {
          "base_uri": "https://localhost:8080/"
        },
        "id": "2t-sT5iNqZiq",
        "outputId": "9c33267f-dfa7-4662-fe24-e73bc2991f30"
      },
      "execution_count": 194,
      "outputs": [
        {
          "output_type": "stream",
          "name": "stdout",
          "text": [
            "Matched Alice\n"
          ]
        }
      ]
    },
    {
      "cell_type": "markdown",
      "source": [
        "# Match with Guards"
      ],
      "metadata": {
        "id": "zpkrJV2Oqa_Q"
      }
    },
    {
      "cell_type": "code",
      "source": [
        "num = 10\n",
        "\n",
        "match num:\n",
        "    case _ if num > 0:\n",
        "        print(\"Positive number\")\n",
        "    case _ if num < 0:\n",
        "        print(\"Negative number\")\n",
        "    case _:\n",
        "        print(\"Zero\")\n"
      ],
      "metadata": {
        "colab": {
          "base_uri": "https://localhost:8080/"
        },
        "id": "c2UH6pn9qct0",
        "outputId": "e759f482-e4c1-4500-fafa-a0056cf88b8a"
      },
      "execution_count": 195,
      "outputs": [
        {
          "output_type": "stream",
          "name": "stdout",
          "text": [
            "Positive number\n"
          ]
        }
      ]
    },
    {
      "cell_type": "markdown",
      "source": [
        "# Match Nested Patterns"
      ],
      "metadata": {
        "id": "uyMgFx1XqegD"
      }
    },
    {
      "cell_type": "code",
      "source": [
        "data = {\"user\": {\"name\": \"Alice\", \"age\": 30}}\n",
        "\n",
        "match data:\n",
        "    case {\"user\": {\"name\": \"Alice\"}}:\n",
        "        print(\"User Alice\")\n",
        "    case {\"user\": {\"age\": 30}}:\n",
        "        print(\"Age 30\")\n",
        "    case _:\n",
        "        print(\"Unknown data\")\n"
      ],
      "metadata": {
        "colab": {
          "base_uri": "https://localhost:8080/"
        },
        "id": "YqNJFtmBqfu2",
        "outputId": "0ad2f5dc-4c27-4037-9ea8-dcdcff21cf58"
      },
      "execution_count": 196,
      "outputs": [
        {
          "output_type": "stream",
          "name": "stdout",
          "text": [
            "User Alice\n"
          ]
        }
      ]
    },
    {
      "cell_type": "markdown",
      "source": [
        "# Match Wildcard"
      ],
      "metadata": {
        "id": "ucwFgdktqh05"
      }
    },
    {
      "cell_type": "code",
      "source": [
        "value = 42\n",
        "\n",
        "match value:\n",
        "    case 1 | 2 | 3:\n",
        "        print(\"Matched 1, 2, or 3\")\n",
        "    case _:\n",
        "        print(\"Default case\")\n"
      ],
      "metadata": {
        "colab": {
          "base_uri": "https://localhost:8080/"
        },
        "id": "1sDbdxuuqjJ3",
        "outputId": "ae984bc3-b1c1-49e5-919a-386784328a69"
      },
      "execution_count": 197,
      "outputs": [
        {
          "output_type": "stream",
          "name": "stdout",
          "text": [
            "Default case\n"
          ]
        }
      ]
    },
    {
      "cell_type": "markdown",
      "source": [
        "# Match with Multiple Conditions"
      ],
      "metadata": {
        "id": "D6kfQsc1qkcn"
      }
    },
    {
      "cell_type": "code",
      "source": [
        "command = (\"MOVE\", \"UP\")\n",
        "\n",
        "match command:\n",
        "    case (\"MOVE\", \"UP\"):\n",
        "        print(\"Moving up\")\n",
        "    case (\"MOVE\", \"DOWN\"):\n",
        "        print(\"Moving down\")\n",
        "    case (\"STOP\",):\n",
        "        print(\"Stopping\")\n",
        "    case _:\n",
        "        print(\"Unknown command\")\n"
      ],
      "metadata": {
        "colab": {
          "base_uri": "https://localhost:8080/"
        },
        "id": "nW81BT6eql1h",
        "outputId": "3283bf1d-b90e-4613-b7b6-4be0b2aa9532"
      },
      "execution_count": 198,
      "outputs": [
        {
          "output_type": "stream",
          "name": "stdout",
          "text": [
            "Moving up\n"
          ]
        }
      ]
    },
    {
      "cell_type": "markdown",
      "source": [
        "# Match Range"
      ],
      "metadata": {
        "id": "0vvQyMUTqolA"
      }
    },
    {
      "cell_type": "code",
      "source": [
        "score = 85\n",
        "\n",
        "match score:\n",
        "    case _ if 90 <= score <= 100:\n",
        "        print(\"Grade A\")\n",
        "    case _ if 80 <= score < 90:\n",
        "        print(\"Grade B\")\n",
        "    case _ if 70 <= score < 80:\n",
        "        print(\"Grade C\")\n",
        "    case _:\n",
        "        print(\"Grade F\")\n"
      ],
      "metadata": {
        "colab": {
          "base_uri": "https://localhost:8080/"
        },
        "id": "u0zBiDyAqpxR",
        "outputId": "cca9ee30-defa-4671-e104-3f5234cdf342"
      },
      "execution_count": 199,
      "outputs": [
        {
          "output_type": "stream",
          "name": "stdout",
          "text": [
            "Grade B\n"
          ]
        }
      ]
    },
    {
      "cell_type": "markdown",
      "source": [
        "# Match Empty Value"
      ],
      "metadata": {
        "id": "UXPz00rwqt3N"
      }
    },
    {
      "cell_type": "code",
      "source": [
        "value = None\n",
        "\n",
        "match value:\n",
        "    case None:\n",
        "        print(\"No value\")\n",
        "    case _:\n",
        "        print(\"Some value\")\n"
      ],
      "metadata": {
        "colab": {
          "base_uri": "https://localhost:8080/"
        },
        "id": "flT5laixqu-g",
        "outputId": "58b28545-3c9f-4a97-8310-03c520b723f4"
      },
      "execution_count": 200,
      "outputs": [
        {
          "output_type": "stream",
          "name": "stdout",
          "text": [
            "No value\n"
          ]
        }
      ]
    },
    {
      "cell_type": "markdown",
      "source": [
        "# Match by Type"
      ],
      "metadata": {
        "id": "ydhn8Q37qwgM"
      }
    },
    {
      "cell_type": "code",
      "source": [
        "value = 3.14\n",
        "\n",
        "match value:\n",
        "    case int():\n",
        "        print(\"Integer\")\n",
        "    case float():\n",
        "        print(\"Float\")\n",
        "    case str():\n",
        "        print(\"String\")\n",
        "    case _:\n",
        "        print(\"Unknown type\")\n"
      ],
      "metadata": {
        "colab": {
          "base_uri": "https://localhost:8080/"
        },
        "id": "QQAhDbcIqyCI",
        "outputId": "887c88de-208f-48b2-8118-e80b65ae1dbc"
      },
      "execution_count": 201,
      "outputs": [
        {
          "output_type": "stream",
          "name": "stdout",
          "text": [
            "Float\n"
          ]
        }
      ]
    },
    {
      "cell_type": "markdown",
      "source": [
        "# Match by Length"
      ],
      "metadata": {
        "id": "gyZVOQsOqzNX"
      }
    },
    {
      "cell_type": "code",
      "source": [
        "my_list = [1, 2, 3, 4]\n",
        "\n",
        "match my_list:\n",
        "    case _ if len(my_list) == 0:\n",
        "        print(\"Empty list\")\n",
        "    case _ if len(my_list) == 4:\n",
        "        print(\"List with four elements\")\n",
        "    case _:\n",
        "        print(\"Other list\")\n"
      ],
      "metadata": {
        "colab": {
          "base_uri": "https://localhost:8080/"
        },
        "id": "ng9ET4P8q1fZ",
        "outputId": "32daf5a7-439c-4687-848e-8a7c6e049302"
      },
      "execution_count": 202,
      "outputs": [
        {
          "output_type": "stream",
          "name": "stdout",
          "text": [
            "List with four elements\n"
          ]
        }
      ]
    },
    {
      "cell_type": "markdown",
      "source": [
        "# Match with Fallback"
      ],
      "metadata": {
        "id": "cKHJTD60q3Ga"
      }
    },
    {
      "cell_type": "code",
      "source": [
        "user_role = \"guest\"\n",
        "\n",
        "match user_role:\n",
        "    case \"admin\":\n",
        "        print(\"Admin access\")\n",
        "    case \"user\":\n",
        "        print(\"User access\")\n",
        "    case _:\n",
        "        print(\"Guest access\")\n"
      ],
      "metadata": {
        "colab": {
          "base_uri": "https://localhost:8080/"
        },
        "id": "HlT1O-H5q5GR",
        "outputId": "a972e8ad-48bf-4c1e-c592-e3132c4c6943"
      },
      "execution_count": 203,
      "outputs": [
        {
          "output_type": "stream",
          "name": "stdout",
          "text": [
            "Guest access\n"
          ]
        }
      ]
    },
    {
      "cell_type": "markdown",
      "source": [
        "# Match Nested Lists"
      ],
      "metadata": {
        "id": "3-H6rBxpq6dh"
      }
    },
    {
      "cell_type": "code",
      "source": [
        "matrix = [[1, 2], [3, 4]]\n",
        "\n",
        "match matrix:\n",
        "    case [[1, 2], [3, 4]]:\n",
        "        print(\"Matched 2x2 matrix\")\n",
        "    case _:\n",
        "        print(\"Unknown matrix\")\n"
      ],
      "metadata": {
        "colab": {
          "base_uri": "https://localhost:8080/"
        },
        "id": "sLoO0knVq8LC",
        "outputId": "ac04def2-5bab-4171-fc06-c7bc1417f2ab"
      },
      "execution_count": 204,
      "outputs": [
        {
          "output_type": "stream",
          "name": "stdout",
          "text": [
            "Matched 2x2 matrix\n"
          ]
        }
      ]
    },
    {
      "cell_type": "markdown",
      "source": [
        "# Match Attributes"
      ],
      "metadata": {
        "id": "ZMfbLAbKq9gg"
      }
    },
    {
      "cell_type": "code",
      "source": [
        "class Car:\n",
        "    def __init__(self, make, model):\n",
        "        self.make = make\n",
        "        self.model = model\n",
        "\n",
        "car = Car(\"Toyota\", \"Camry\")\n",
        "\n",
        "match car:\n",
        "    case Car(make=\"Toyota\", model=\"Camry\"):\n",
        "        print(\"Matched Toyota Camry\")\n",
        "    case Car(make=\"Honda\", model=\"Civic\"):\n",
        "        print(\"Matched Honda Civic\")\n",
        "    case _:\n",
        "        print(\"Unknown car\")\n"
      ],
      "metadata": {
        "colab": {
          "base_uri": "https://localhost:8080/"
        },
        "id": "ciFIscKTq-88",
        "outputId": "ffd6dcf6-5dc5-4caf-b3d2-836c0dfd54c5"
      },
      "execution_count": 205,
      "outputs": [
        {
          "output_type": "stream",
          "name": "stdout",
          "text": [
            "Matched Toyota Camry\n"
          ]
        }
      ]
    },
    {
      "cell_type": "markdown",
      "source": [
        "# Match with Default Case"
      ],
      "metadata": {
        "id": "QoYWyIO9rAfK"
      }
    },
    {
      "cell_type": "code",
      "source": [
        "def match_shape(shape):\n",
        "    match shape:\n",
        "        case \"circle\":\n",
        "            return \"Circle shape\"\n",
        "        case \"square\":\n",
        "            return \"Square shape\"\n",
        "        case _:\n",
        "            return \"Unknown shape\"\n",
        "\n",
        "shape = \"triangle\"\n",
        "result = match_shape(shape)\n",
        "print(result)  # Output: Unknown shape\n"
      ],
      "metadata": {
        "colab": {
          "base_uri": "https://localhost:8080/"
        },
        "id": "5WbrTqf0rCQm",
        "outputId": "1155f97c-2aef-49d5-9597-7250c3ce784d"
      },
      "execution_count": 206,
      "outputs": [
        {
          "output_type": "stream",
          "name": "stdout",
          "text": [
            "Unknown shape\n"
          ]
        }
      ]
    },
    {
      "cell_type": "markdown",
      "source": [
        "# 2. Implementing Nested Elif Statements"
      ],
      "metadata": {
        "id": "N9VrdAW2reM_"
      }
    },
    {
      "cell_type": "markdown",
      "source": [
        "## Basic Nested Elif"
      ],
      "metadata": {
        "id": "iTOysjwTrhZM"
      }
    },
    {
      "cell_type": "code",
      "source": [
        "temperature = 30\n",
        "\n",
        "if temperature > 20:\n",
        "    if temperature > 25:\n",
        "        print(\"It's a hot day\")\n",
        "    else:\n",
        "        print(\"It's a warm day\")\n",
        "elif temperature > 10:\n",
        "    print(\"It's a cool day\")\n",
        "else:\n",
        "    print(\"It's a cold day\")\n"
      ],
      "metadata": {
        "colab": {
          "base_uri": "https://localhost:8080/"
        },
        "id": "6Hzbrvv_rR0c",
        "outputId": "45019023-69c4-4a92-df3f-a0dee52f8f07"
      },
      "execution_count": 207,
      "outputs": [
        {
          "output_type": "stream",
          "name": "stdout",
          "text": [
            "It's a hot day\n"
          ]
        }
      ]
    },
    {
      "cell_type": "markdown",
      "source": [
        "## Checking Grades"
      ],
      "metadata": {
        "id": "Bjf3srjErkAE"
      }
    },
    {
      "cell_type": "code",
      "source": [
        "score = 75\n",
        "\n",
        "if score >= 90:\n",
        "    grade = 'A'\n",
        "elif score >= 80:\n",
        "    grade = 'B'\n",
        "elif score >= 70:\n",
        "    if score >= 75:\n",
        "        grade = 'C+'\n",
        "    else:\n",
        "        grade = 'C'\n",
        "elif score >= 60:\n",
        "    grade = 'D'\n",
        "else:\n",
        "    grade = 'F'\n",
        "\n",
        "print(f\"Grade: {grade}\")\n"
      ],
      "metadata": {
        "colab": {
          "base_uri": "https://localhost:8080/"
        },
        "id": "p6WQD6CTrlPV",
        "outputId": "524773eb-d84b-416f-d3df-b295e64bdb36"
      },
      "execution_count": 208,
      "outputs": [
        {
          "output_type": "stream",
          "name": "stdout",
          "text": [
            "Grade: C+\n"
          ]
        }
      ]
    },
    {
      "cell_type": "markdown",
      "source": [
        "## Nested Elif for Age and Membership Status"
      ],
      "metadata": {
        "id": "0Fdi0avCrm7p"
      }
    },
    {
      "cell_type": "code",
      "source": [
        "age = 40\n",
        "membership_status = 'silver'\n",
        "\n",
        "if age > 18:\n",
        "    if membership_status == 'gold':\n",
        "        print(\"Gold member\")\n",
        "    elif membership_status == 'silver':\n",
        "        print(\"Silver member\")\n",
        "    else:\n",
        "        print(\"Regular member\")\n",
        "else:\n",
        "    print(\"Underage member\")\n"
      ],
      "metadata": {
        "colab": {
          "base_uri": "https://localhost:8080/"
        },
        "id": "J2giJkIzrwRD",
        "outputId": "028674f1-6c5b-48a7-ca77-cf593eabd9a7"
      },
      "execution_count": 209,
      "outputs": [
        {
          "output_type": "stream",
          "name": "stdout",
          "text": [
            "Silver member\n"
          ]
        }
      ]
    },
    {
      "cell_type": "markdown",
      "source": [
        "## Product Pricing"
      ],
      "metadata": {
        "id": "9G1BIQZtrylC"
      }
    },
    {
      "cell_type": "code",
      "source": [
        "product = \"laptop\"\n",
        "price = 1200\n",
        "\n",
        "if product == \"laptop\":\n",
        "    if price > 1000:\n",
        "        print(\"High-end laptop\")\n",
        "    elif 500 <= price <= 1000:\n",
        "        print(\"Mid-range laptop\")\n",
        "    else:\n",
        "        print(\"Budget laptop\")\n",
        "elif product == \"phone\":\n",
        "    if price > 800:\n",
        "        print(\"High-end phone\")\n",
        "    elif 300 <= price <= 800:\n",
        "        print(\"Mid-range phone\")\n",
        "    else:\n",
        "        print(\"Budget phone\")\n",
        "else:\n",
        "    print(\"Unknown product\")\n"
      ],
      "metadata": {
        "colab": {
          "base_uri": "https://localhost:8080/"
        },
        "id": "Z820-qPTr0k0",
        "outputId": "47468f47-48e2-4293-b24e-d64dd113347a"
      },
      "execution_count": 210,
      "outputs": [
        {
          "output_type": "stream",
          "name": "stdout",
          "text": [
            "High-end laptop\n"
          ]
        }
      ]
    },
    {
      "cell_type": "markdown",
      "source": [
        "## Nested Elif for Location and Weather"
      ],
      "metadata": {
        "id": "lvwGR48Fr32b"
      }
    },
    {
      "cell_type": "code",
      "source": [
        "location = \"beach\"\n",
        "weather = \"sunny\"\n",
        "\n",
        "if location == \"beach\":\n",
        "    if weather == \"sunny\":\n",
        "        print(\"Perfect day for the beach\")\n",
        "    elif weather == \"rainy\":\n",
        "        print(\"Not a good day for the beach\")\n",
        "    else:\n",
        "        print(\"Uncertain beach day\")\n",
        "elif location == \"mountain\":\n",
        "    if weather == \"sunny\":\n",
        "        print(\"Great day for hiking\")\n",
        "    elif weather == \"rainy\":\n",
        "        print(\"Dangerous hiking conditions\")\n",
        "    else:\n",
        "        print(\"Check weather before hiking\")\n",
        "else:\n",
        "    print(\"Unknown location\")\n"
      ],
      "metadata": {
        "colab": {
          "base_uri": "https://localhost:8080/"
        },
        "id": "0zu91SOBr5WZ",
        "outputId": "d56e8d19-1a38-40e8-feee-5170e48e81ab"
      },
      "execution_count": 211,
      "outputs": [
        {
          "output_type": "stream",
          "name": "stdout",
          "text": [
            "Perfect day for the beach\n"
          ]
        }
      ]
    },
    {
      "cell_type": "markdown",
      "source": [
        "## Access Control Based on Role and Department"
      ],
      "metadata": {
        "id": "4G_vbyeur7Il"
      }
    },
    {
      "cell_type": "code",
      "source": [
        "role = \"manager\"\n",
        "department = \"sales\"\n",
        "\n",
        "if role == \"manager\":\n",
        "    if department == \"sales\":\n",
        "        print(\"Sales manager access\")\n",
        "    elif department == \"marketing\":\n",
        "        print(\"Marketing manager access\")\n",
        "    else:\n",
        "        print(\"Manager access\")\n",
        "elif role == \"employee\":\n",
        "    if department == \"sales\":\n",
        "        print(\"Sales employee access\")\n",
        "    elif department == \"marketing\":\n",
        "        print(\"Marketing employee access\")\n",
        "    else:\n",
        "        print(\"Employee access\")\n",
        "else:\n",
        "    print(\"No access\")\n"
      ],
      "metadata": {
        "colab": {
          "base_uri": "https://localhost:8080/"
        },
        "id": "AnL6XPE_r8CC",
        "outputId": "86213c09-38d5-43d1-aaa5-4b6f0d3d172d"
      },
      "execution_count": 212,
      "outputs": [
        {
          "output_type": "stream",
          "name": "stdout",
          "text": [
            "Sales manager access\n"
          ]
        }
      ]
    },
    {
      "cell_type": "markdown",
      "source": [
        "## Discount Calculation Based on Age and Membership"
      ],
      "metadata": {
        "id": "RiXKz9Mwr_ba"
      }
    },
    {
      "cell_type": "code",
      "source": [
        "age = 25\n",
        "membership = \"premium\"\n",
        "\n",
        "if age < 18:\n",
        "    discount = 20\n",
        "elif age < 60:\n",
        "    if membership == \"premium\":\n",
        "        discount = 30\n",
        "    elif membership == \"basic\":\n",
        "        discount = 10\n",
        "    else:\n",
        "        discount = 5\n",
        "else:\n",
        "    if membership == \"premium\":\n",
        "        discount = 50\n",
        "    else:\n",
        "        discount = 30\n",
        "\n",
        "print(f\"Discount: {discount}%\")\n"
      ],
      "metadata": {
        "colab": {
          "base_uri": "https://localhost:8080/"
        },
        "id": "QTxIGcwysB3y",
        "outputId": "de542495-f2b1-4f25-ab85-cc238160c771"
      },
      "execution_count": 213,
      "outputs": [
        {
          "output_type": "stream",
          "name": "stdout",
          "text": [
            "Discount: 30%\n"
          ]
        }
      ]
    },
    {
      "cell_type": "markdown",
      "source": [
        "## Event Scheduling"
      ],
      "metadata": {
        "id": "jGauuXlvsDaQ"
      }
    },
    {
      "cell_type": "code",
      "source": [
        "day = \"Saturday\"\n",
        "time = 10\n",
        "\n",
        "if day in [\"Saturday\", \"Sunday\"]:\n",
        "    if time < 12:\n",
        "        print(\"Morning event on weekend\")\n",
        "    else:\n",
        "        print(\"Afternoon event on weekend\")\n",
        "elif day in [\"Monday\", \"Friday\"]:\n",
        "    if time < 12:\n",
        "        print(\"Morning event on weekday\")\n",
        "    else:\n",
        "        print(\"Afternoon event on weekday\")\n",
        "else:\n",
        "    print(\"No event scheduled\")\n"
      ],
      "metadata": {
        "colab": {
          "base_uri": "https://localhost:8080/"
        },
        "id": "ySOGXmrgsFa1",
        "outputId": "821327c8-91ff-4d6a-8a25-7191bb761b5a"
      },
      "execution_count": 214,
      "outputs": [
        {
          "output_type": "stream",
          "name": "stdout",
          "text": [
            "Morning event on weekend\n"
          ]
        }
      ]
    },
    {
      "cell_type": "markdown",
      "source": [
        "## Financial Aid Eligibility"
      ],
      "metadata": {
        "id": "6mkuddLlsH-I"
      }
    },
    {
      "cell_type": "code",
      "source": [
        "income = 40000\n",
        "gpa = 3.5\n",
        "\n",
        "if income < 20000:\n",
        "    aid = 5000\n",
        "elif income < 50000:\n",
        "    if gpa > 3.0:\n",
        "        aid = 3000\n",
        "    else:\n",
        "        aid = 1000\n",
        "else:\n",
        "    aid = 500\n",
        "\n",
        "print(f\"Financial aid: ${aid}\")\n"
      ],
      "metadata": {
        "colab": {
          "base_uri": "https://localhost:8080/"
        },
        "id": "jzv7BxI5sJni",
        "outputId": "078ab2f7-07de-41a5-fca5-820759fbc434"
      },
      "execution_count": 215,
      "outputs": [
        {
          "output_type": "stream",
          "name": "stdout",
          "text": [
            "Financial aid: $3000\n"
          ]
        }
      ]
    },
    {
      "cell_type": "markdown",
      "source": [
        "## Complex Nested Conditions"
      ],
      "metadata": {
        "id": "VXW9cuW2sK84"
      }
    },
    {
      "cell_type": "code",
      "source": [
        "height = 180\n",
        "weight = 75\n",
        "activity_level = \"high\"\n",
        "\n",
        "if height > 170:\n",
        "    if weight > 70:\n",
        "        if activity_level == \"high\":\n",
        "            print(\"Tall, healthy weight, high activity\")\n",
        "        elif activity_level == \"medium\":\n",
        "            print(\"Tall, healthy weight, medium activity\")\n",
        "        else:\n",
        "            print(\"Tall, healthy weight, low activity\")\n",
        "    else:\n",
        "        print(\"Tall, underweight\")\n",
        "elif height < 160:\n",
        "    if weight > 60:\n",
        "        print(\"Short, overweight\")\n",
        "    else:\n",
        "        print(\"Short, healthy weight\")\n",
        "else:\n",
        "    print(\"Average height\")\n"
      ],
      "metadata": {
        "colab": {
          "base_uri": "https://localhost:8080/"
        },
        "id": "zBZ4T9A4sMaJ",
        "outputId": "571ccf4b-f6ed-4f8f-d720-a07b0581db04"
      },
      "execution_count": 216,
      "outputs": [
        {
          "output_type": "stream",
          "name": "stdout",
          "text": [
            "Tall, healthy weight, high activity\n"
          ]
        }
      ]
    },
    {
      "cell_type": "markdown",
      "source": [
        "# 3. Implementing Iterators"
      ],
      "metadata": {
        "id": "9jM99xMIsUuB"
      }
    },
    {
      "cell_type": "markdown",
      "source": [
        "## Using Built-in Iterator"
      ],
      "metadata": {
        "id": "XcugOgz8soG9"
      }
    },
    {
      "cell_type": "code",
      "source": [
        "# Creating a list\n",
        "my_list = [10, 20, 30, 40]\n",
        "\n",
        "# Getting an iterator from the list\n",
        "iter_obj = iter(my_list)\n",
        "\n",
        "# Using next() to get elements\n",
        "print(next(iter_obj))  # Output: 10\n",
        "print(next(iter_obj))  # Output: 20\n",
        "print(next(iter_obj))  # Output: 30\n",
        "print(next(iter_obj))  # Output: 40\n"
      ],
      "metadata": {
        "colab": {
          "base_uri": "https://localhost:8080/"
        },
        "id": "-_VOSX1lsWnY",
        "outputId": "e00b0fbe-6742-4d2c-a18d-9a382398df61"
      },
      "execution_count": 217,
      "outputs": [
        {
          "output_type": "stream",
          "name": "stdout",
          "text": [
            "10\n",
            "20\n",
            "30\n",
            "40\n"
          ]
        }
      ]
    },
    {
      "cell_type": "markdown",
      "source": [
        "## Custom Iterator Class"
      ],
      "metadata": {
        "id": "LbiWOLl1srQY"
      }
    },
    {
      "cell_type": "code",
      "source": [
        "class Counter:\n",
        "    def __init__(self, low, high):\n",
        "        self.current = low\n",
        "        self.high = high\n",
        "\n",
        "    def __iter__(self):\n",
        "        return self\n",
        "\n",
        "    def __next__(self):\n",
        "        if self.current > self.high:\n",
        "            raise StopIteration\n",
        "        else:\n",
        "            self.current += 1\n",
        "            return self.current - 1\n",
        "\n",
        "# Creating an instance of Counter\n",
        "counter = Counter(5, 10)\n",
        "\n",
        "# Using the custom iterator\n",
        "for number in counter:\n",
        "    print(number)  # Output: 5 6 7 8 9 10\n"
      ],
      "metadata": {
        "colab": {
          "base_uri": "https://localhost:8080/"
        },
        "id": "We63QDMRstbU",
        "outputId": "7d3cb848-be74-47d0-95d2-3219b54b5f37"
      },
      "execution_count": 218,
      "outputs": [
        {
          "output_type": "stream",
          "name": "stdout",
          "text": [
            "5\n",
            "6\n",
            "7\n",
            "8\n",
            "9\n",
            "10\n"
          ]
        }
      ]
    },
    {
      "cell_type": "markdown",
      "source": [
        "## Using Iterators with Dictionaries"
      ],
      "metadata": {
        "id": "ZQIEDMdysva1"
      }
    },
    {
      "cell_type": "code",
      "source": [
        "my_dict = {'a': 1, 'b': 2, 'c': 3}\n",
        "\n",
        "# Getting an iterator for the dictionary keys\n",
        "iter_keys = iter(my_dict.keys())\n",
        "\n",
        "# Iterating over the dictionary keys\n",
        "for key in iter_keys:\n",
        "    print(key, my_dict[key])\n",
        "# Output:\n",
        "# a 1\n",
        "# b 2\n",
        "# c 3\n"
      ],
      "metadata": {
        "colab": {
          "base_uri": "https://localhost:8080/"
        },
        "id": "UzrnLF_Aswo8",
        "outputId": "dd0a83ff-f632-4ef6-945c-46475d66b9ae"
      },
      "execution_count": 219,
      "outputs": [
        {
          "output_type": "stream",
          "name": "stdout",
          "text": [
            "a 1\n",
            "b 2\n",
            "c 3\n"
          ]
        }
      ]
    },
    {
      "cell_type": "markdown",
      "source": [
        "## Implementing an Infinite Iterator"
      ],
      "metadata": {
        "id": "K8j9ILnetEvf"
      }
    },
    {
      "cell_type": "code",
      "source": [
        "class InfiniteCounter:\n",
        "    def __init__(self, start=0):\n",
        "        self.current = start\n",
        "\n",
        "    def __iter__(self):\n",
        "        return self\n",
        "\n",
        "    def __next__(self):\n",
        "        self.current += 1\n",
        "        return self.current\n",
        "\n",
        "# Creating an instance of InfiniteCounter\n",
        "infinite_counter = InfiniteCounter()\n",
        "\n",
        "# Using the infinite iterator (we'll limit the output here for demonstration)\n",
        "for i in range(5):\n",
        "    print(next(infinite_counter))\n",
        "# Output: 1 2 3 4 5\n"
      ],
      "metadata": {
        "colab": {
          "base_uri": "https://localhost:8080/"
        },
        "id": "zTBkBA0vtGKU",
        "outputId": "f97c53d5-260c-4c82-c535-8c97a8e20352"
      },
      "execution_count": 220,
      "outputs": [
        {
          "output_type": "stream",
          "name": "stdout",
          "text": [
            "1\n",
            "2\n",
            "3\n",
            "4\n",
            "5\n"
          ]
        }
      ]
    },
    {
      "cell_type": "markdown",
      "source": [
        "## Using Iterator with a Custom Iterable"
      ],
      "metadata": {
        "id": "XJ77y5GntSSw"
      }
    },
    {
      "cell_type": "code",
      "source": [
        "class Fibonacci:\n",
        "    def __init__(self, max):\n",
        "        self.max = max\n",
        "        self.a, self.b = 0, 1\n",
        "\n",
        "    def __iter__(self):\n",
        "        return self\n",
        "\n",
        "    def __next__(self):\n",
        "        fib = self.a\n",
        "        if fib > self.max:\n",
        "            raise StopIteration\n",
        "        self.a, self.b = self.b, self.a + self.b\n",
        "        return fib\n",
        "\n",
        "# Creating an instance of Fibonacci with a max value of 10\n",
        "fibonacci = Fibonacci(10)\n",
        "\n",
        "# Using the Fibonacci iterator\n",
        "for num in fibonacci:\n",
        "    print(num)  # Output: 0 1 1 2 3 5 8\n"
      ],
      "metadata": {
        "colab": {
          "base_uri": "https://localhost:8080/"
        },
        "id": "WEA6SlbwtTjc",
        "outputId": "95311e91-cbd8-4d89-b9aa-78ac7709810b"
      },
      "execution_count": 221,
      "outputs": [
        {
          "output_type": "stream",
          "name": "stdout",
          "text": [
            "0\n",
            "1\n",
            "1\n",
            "2\n",
            "3\n",
            "5\n",
            "8\n"
          ]
        }
      ]
    },
    {
      "cell_type": "markdown",
      "source": [
        "# 4. Applying Break and Continue Statements"
      ],
      "metadata": {
        "id": "eAwB0osatxWX"
      }
    },
    {
      "cell_type": "markdown",
      "source": [
        "## Using Break in a For Loop"
      ],
      "metadata": {
        "id": "N8eWBV5WtzsB"
      }
    },
    {
      "cell_type": "code",
      "source": [
        "# Print numbers from 0 to 4, stop when the number is 3\n",
        "for i in range(10):\n",
        "    if i == 5:\n",
        "        break\n",
        "    print(i)\n",
        "# Output: 0 1 2 3 4\n"
      ],
      "metadata": {
        "colab": {
          "base_uri": "https://localhost:8080/"
        },
        "id": "kbVDZi_ftySX",
        "outputId": "e5bc9fed-1c71-4de5-9220-33ab5c987e42"
      },
      "execution_count": 222,
      "outputs": [
        {
          "output_type": "stream",
          "name": "stdout",
          "text": [
            "0\n",
            "1\n",
            "2\n",
            "3\n",
            "4\n"
          ]
        }
      ]
    },
    {
      "cell_type": "markdown",
      "source": [
        "## Using Continue in a For Loop"
      ],
      "metadata": {
        "id": "65ZMICUOt2tW"
      }
    },
    {
      "cell_type": "code",
      "source": [
        "# Print odd numbers between 0 and 9\n",
        "for i in range(10):\n",
        "    if i % 2 == 0:\n",
        "        continue\n",
        "    print(i)\n",
        "# Output: 1 3 5 7 9\n"
      ],
      "metadata": {
        "colab": {
          "base_uri": "https://localhost:8080/"
        },
        "id": "G-98KP00t7dw",
        "outputId": "dc432218-ec6d-444d-9780-6bdedf3fb0cb"
      },
      "execution_count": 223,
      "outputs": [
        {
          "output_type": "stream",
          "name": "stdout",
          "text": [
            "1\n",
            "3\n",
            "5\n",
            "7\n",
            "9\n"
          ]
        }
      ]
    },
    {
      "cell_type": "markdown",
      "source": [
        "## Break in a While Loop"
      ],
      "metadata": {
        "id": "TdktD24ot9nM"
      }
    },
    {
      "cell_type": "code",
      "source": [
        "# Print numbers from 0 to 3\n",
        "count = 0\n",
        "\n",
        "while count < 10:\n",
        "    print(count)\n",
        "    count += 1\n",
        "    if count == 4:\n",
        "        break\n",
        "# Output: 0 1 2 3\n"
      ],
      "metadata": {
        "colab": {
          "base_uri": "https://localhost:8080/"
        },
        "id": "fYRUQXrGt_9B",
        "outputId": "b2d211f9-96cf-433e-df8d-faa4ac24e464"
      },
      "execution_count": 224,
      "outputs": [
        {
          "output_type": "stream",
          "name": "stdout",
          "text": [
            "0\n",
            "1\n",
            "2\n",
            "3\n"
          ]
        }
      ]
    },
    {
      "cell_type": "markdown",
      "source": [
        "## Continue in a While Loop"
      ],
      "metadata": {
        "id": "RsGHYnPBuBSP"
      }
    },
    {
      "cell_type": "code",
      "source": [
        "# Print odd numbers between 0 and 9\n",
        "count = 0\n",
        "\n",
        "while count < 10:\n",
        "    count += 1\n",
        "    if count % 2 == 0:\n",
        "        continue\n",
        "    print(count)\n",
        "# Output: 1 3 5 7 9\n"
      ],
      "metadata": {
        "colab": {
          "base_uri": "https://localhost:8080/"
        },
        "id": "O9g7-E4guCp7",
        "outputId": "b0a4f71a-3bc7-4029-deb8-2b348fb36e05"
      },
      "execution_count": 225,
      "outputs": [
        {
          "output_type": "stream",
          "name": "stdout",
          "text": [
            "1\n",
            "3\n",
            "5\n",
            "7\n",
            "9\n"
          ]
        }
      ]
    },
    {
      "cell_type": "markdown",
      "source": [
        "## Nested Loops with Break"
      ],
      "metadata": {
        "id": "D-uT6SiTuDxT"
      }
    },
    {
      "cell_type": "code",
      "source": [
        "# Use break in nested loops to stop the inner loop when a condition is met\n",
        "for i in range(3):\n",
        "    for j in range(3):\n",
        "        if j == 1:\n",
        "            break\n",
        "        print(f\"i: {i}, j: {j}\")\n",
        "# Output:\n",
        "# i: 0, j: 0\n",
        "# i: 1, j: 0\n",
        "# i: 2, j: 0\n"
      ],
      "metadata": {
        "colab": {
          "base_uri": "https://localhost:8080/"
        },
        "id": "2sQaNZ9FuFPa",
        "outputId": "4ec5558a-f09f-414e-a4a7-ba7a7ecec61b"
      },
      "execution_count": 226,
      "outputs": [
        {
          "output_type": "stream",
          "name": "stdout",
          "text": [
            "i: 0, j: 0\n",
            "i: 1, j: 0\n",
            "i: 2, j: 0\n"
          ]
        }
      ]
    },
    {
      "cell_type": "markdown",
      "source": [
        "## Nested Loops with Continue"
      ],
      "metadata": {
        "id": "CXaP8zs9uHb7"
      }
    },
    {
      "cell_type": "code",
      "source": [
        "# Use continue in nested loops to skip the current iteration of the inner loop\n",
        "for i in range(3):\n",
        "    for j in range(3):\n",
        "        if j == 1:\n",
        "            continue\n",
        "        print(f\"i: {i}, j: {j}\")\n",
        "# Output:\n",
        "# i: 0, j: 0\n",
        "# i: 0, j: 2\n",
        "# i: 1, j: 0\n",
        "# i: 1, j: 2\n",
        "# i: 2, j: 0\n",
        "# i: 2, j: 2\n"
      ],
      "metadata": {
        "colab": {
          "base_uri": "https://localhost:8080/"
        },
        "id": "3VW06fn7uIw8",
        "outputId": "5257fb04-c33f-4ea2-b241-86cc8f887914"
      },
      "execution_count": 227,
      "outputs": [
        {
          "output_type": "stream",
          "name": "stdout",
          "text": [
            "i: 0, j: 0\n",
            "i: 0, j: 2\n",
            "i: 1, j: 0\n",
            "i: 1, j: 2\n",
            "i: 2, j: 0\n",
            "i: 2, j: 2\n"
          ]
        }
      ]
    },
    {
      "cell_type": "markdown",
      "source": [
        "# 5. Implementing If-Else Statements"
      ],
      "metadata": {
        "id": "Kk8hLw_xuQSE"
      }
    },
    {
      "cell_type": "markdown",
      "source": [
        "## Simple If-Else Statement"
      ],
      "metadata": {
        "id": "B8wES3enuUJM"
      }
    },
    {
      "cell_type": "code",
      "source": [
        "# Check if a number is positive or negative\n",
        "number = -10\n",
        "\n",
        "if number >= 0:\n",
        "    print(\"The number is positive.\")\n",
        "else:\n",
        "    print(\"The number is negative.\")\n"
      ],
      "metadata": {
        "colab": {
          "base_uri": "https://localhost:8080/"
        },
        "id": "HbQt0qa0uSzh",
        "outputId": "c098fa5d-e11b-4325-8cd4-a65d0f9eb1a5"
      },
      "execution_count": 228,
      "outputs": [
        {
          "output_type": "stream",
          "name": "stdout",
          "text": [
            "The number is negative.\n"
          ]
        }
      ]
    },
    {
      "cell_type": "markdown",
      "source": [
        "## If-Elif-Else Statement"
      ],
      "metadata": {
        "id": "_YAB6bVauXUx"
      }
    },
    {
      "cell_type": "code",
      "source": [
        "# Determine the grade based on a score\n",
        "score = 85\n",
        "\n",
        "if score >= 90:\n",
        "    print(\"Grade: A\")\n",
        "elif score >= 80:\n",
        "    print(\"Grade: B\")\n",
        "elif score >= 70:\n",
        "    print(\"Grade: C\")\n",
        "elif score >= 60:\n",
        "    print(\"Grade: D\")\n",
        "else:\n",
        "    print(\"Grade: F\")\n"
      ],
      "metadata": {
        "colab": {
          "base_uri": "https://localhost:8080/"
        },
        "id": "QjII5jxOuZgT",
        "outputId": "c8a1caf2-1fe6-4c56-cd7c-7e53fef26029"
      },
      "execution_count": 229,
      "outputs": [
        {
          "output_type": "stream",
          "name": "stdout",
          "text": [
            "Grade: B\n"
          ]
        }
      ]
    },
    {
      "cell_type": "markdown",
      "source": [
        "## Nested If-Else Statement"
      ],
      "metadata": {
        "id": "7Z17pPH-ua6E"
      }
    },
    {
      "cell_type": "code",
      "source": [
        "# Check if a number is positive, negative, or zero\n",
        "number = 0\n",
        "\n",
        "if number >= 0:\n",
        "    if number == 0:\n",
        "        print(\"The number is zero.\")\n",
        "    else:\n",
        "        print(\"The number is positive.\")\n",
        "else:\n",
        "    print(\"The number is negative.\")\n"
      ],
      "metadata": {
        "colab": {
          "base_uri": "https://localhost:8080/"
        },
        "id": "LKlFpT7XucEO",
        "outputId": "bbab865f-69be-4c43-e598-80eb0f7b3dc5"
      },
      "execution_count": 230,
      "outputs": [
        {
          "output_type": "stream",
          "name": "stdout",
          "text": [
            "The number is zero.\n"
          ]
        }
      ]
    },
    {
      "cell_type": "markdown",
      "source": [
        "## If-Else with Multiple Conditions"
      ],
      "metadata": {
        "id": "QDu9LU75udUJ"
      }
    },
    {
      "cell_type": "code",
      "source": [
        "# Determine the type of triangle based on side lengths\n",
        "a = 5\n",
        "b = 5\n",
        "c = 5\n",
        "\n",
        "if a == b == c:\n",
        "    print(\"The triangle is equilateral.\")\n",
        "elif a == b or b == c or a == c:\n",
        "    print(\"The triangle is isosceles.\")\n",
        "else:\n",
        "    print(\"The triangle is scalene.\")\n"
      ],
      "metadata": {
        "colab": {
          "base_uri": "https://localhost:8080/"
        },
        "id": "_rwg5YTwuecz",
        "outputId": "d44d1162-569c-4ba7-de5b-e54a03d9a1a5"
      },
      "execution_count": 231,
      "outputs": [
        {
          "output_type": "stream",
          "name": "stdout",
          "text": [
            "The triangle is equilateral.\n"
          ]
        }
      ]
    },
    {
      "cell_type": "markdown",
      "source": [
        "## If-Else with Logical Operators"
      ],
      "metadata": {
        "id": "UNEoUMSwufgp"
      }
    },
    {
      "cell_type": "code",
      "source": [
        "# Check if a person is eligible to vote\n",
        "age = 18\n",
        "citizen = True\n",
        "\n",
        "if age >= 18 and citizen:\n",
        "    print(\"Eligible to vote.\")\n",
        "else:\n",
        "    print(\"Not eligible to vote.\")\n"
      ],
      "metadata": {
        "colab": {
          "base_uri": "https://localhost:8080/"
        },
        "id": "vBJ0qksYuhcU",
        "outputId": "d1fba3b5-03f9-42e2-82bc-483909f185a5"
      },
      "execution_count": 232,
      "outputs": [
        {
          "output_type": "stream",
          "name": "stdout",
          "text": [
            "Eligible to vote.\n"
          ]
        }
      ]
    },
    {
      "cell_type": "markdown",
      "source": [
        "# 6. Implementing While/Do-While Loops"
      ],
      "metadata": {
        "id": "cE6qIrmEupBq"
      }
    },
    {
      "cell_type": "markdown",
      "source": [
        "## Simple While Loop"
      ],
      "metadata": {
        "id": "JZyMQ5TquqnZ"
      }
    },
    {
      "cell_type": "code",
      "source": [
        "# Print numbers from 0 to 4\n",
        "count = 0\n",
        "\n",
        "while count < 5:\n",
        "    print(count)\n",
        "    count += 1\n",
        "# Output: 0 1 2 3 4\n"
      ],
      "metadata": {
        "colab": {
          "base_uri": "https://localhost:8080/"
        },
        "id": "Orr15aIqusDG",
        "outputId": "e8c14bfe-138f-4a51-f7ad-b61cf66364e0"
      },
      "execution_count": 233,
      "outputs": [
        {
          "output_type": "stream",
          "name": "stdout",
          "text": [
            "0\n",
            "1\n",
            "2\n",
            "3\n",
            "4\n"
          ]
        }
      ]
    },
    {
      "cell_type": "markdown",
      "source": [
        "# While Loop with a Condition"
      ],
      "metadata": {
        "id": "ueUP1Ap9utLl"
      }
    },
    {
      "cell_type": "code",
      "source": [
        "# Find the sum of all positive numbers up to a given number\n",
        "number = 5\n",
        "total = 0\n",
        "current = 1\n",
        "\n",
        "while current <= number:\n",
        "    total += current\n",
        "    current += 1\n",
        "\n",
        "print(f\"Sum of numbers up to {number} is {total}\")\n",
        "# Output: Sum of numbers up to 5 is 15\n"
      ],
      "metadata": {
        "colab": {
          "base_uri": "https://localhost:8080/"
        },
        "id": "8qH_hv-suvKU",
        "outputId": "9f96d80a-d0d8-4cd4-e9f4-6df6e27d005d"
      },
      "execution_count": 234,
      "outputs": [
        {
          "output_type": "stream",
          "name": "stdout",
          "text": [
            "Sum of numbers up to 5 is 15\n"
          ]
        }
      ]
    },
    {
      "cell_type": "markdown",
      "source": [
        "## Infinite While Loop with Break"
      ],
      "metadata": {
        "id": "S-QrbPF5uw41"
      }
    },
    {
      "cell_type": "code",
      "source": [
        "# Print numbers from 1 until a stop condition is met\n",
        "count = 1\n",
        "\n",
        "while True:\n",
        "    print(count)\n",
        "    count += 1\n",
        "    if count > 5:\n",
        "        break\n",
        "# Output: 1 2 3 4 5\n"
      ],
      "metadata": {
        "colab": {
          "base_uri": "https://localhost:8080/"
        },
        "id": "OEnWwgNOux9Y",
        "outputId": "362a7be2-5da9-47df-bed4-bae1fefbce9b"
      },
      "execution_count": 235,
      "outputs": [
        {
          "output_type": "stream",
          "name": "stdout",
          "text": [
            "1\n",
            "2\n",
            "3\n",
            "4\n",
            "5\n"
          ]
        }
      ]
    },
    {
      "cell_type": "markdown",
      "source": [
        "## Simulating a Do-While Loop"
      ],
      "metadata": {
        "id": "LzVURqEkuzUV"
      }
    },
    {
      "cell_type": "code",
      "source": [
        "# Print numbers from 1 to 5 using a loop that mimics do-while\n",
        "count = 1\n",
        "\n",
        "while True:\n",
        "    print(count)\n",
        "    count += 1\n",
        "    if count > 5:\n",
        "        break\n",
        "# Output: 1 2 3 4 5\n"
      ],
      "metadata": {
        "colab": {
          "base_uri": "https://localhost:8080/"
        },
        "id": "xD6h5hzsu03J",
        "outputId": "2ee6b350-cfd5-4e40-f819-0f614f79058c"
      },
      "execution_count": 236,
      "outputs": [
        {
          "output_type": "stream",
          "name": "stdout",
          "text": [
            "1\n",
            "2\n",
            "3\n",
            "4\n",
            "5\n"
          ]
        }
      ]
    },
    {
      "cell_type": "markdown",
      "source": [
        "## While Loop with Else Clause"
      ],
      "metadata": {
        "id": "Qzr3COOAu2a4"
      }
    },
    {
      "cell_type": "code",
      "source": [
        "# Check if a number is prime\n",
        "number = 29\n",
        "is_prime = True\n",
        "i = 2\n",
        "\n",
        "while i <= number // 2:\n",
        "    if number % i == 0:\n",
        "        is_prime = False\n",
        "        break\n",
        "    i += 1\n",
        "else:\n",
        "    print(f\"{number} is a prime number\")\n",
        "\n",
        "if not is_prime:\n",
        "    print(f\"{number} is not a prime number\")\n",
        "# Output: 29 is a prime number\n"
      ],
      "metadata": {
        "colab": {
          "base_uri": "https://localhost:8080/"
        },
        "id": "-6Y-oMMlu3kN",
        "outputId": "150a0d20-5eaa-4e93-cddc-6680410b9494"
      },
      "execution_count": 237,
      "outputs": [
        {
          "output_type": "stream",
          "name": "stdout",
          "text": [
            "29 is a prime number\n"
          ]
        }
      ]
    },
    {
      "cell_type": "markdown",
      "source": [
        "# 7. Implementing For Loops"
      ],
      "metadata": {
        "id": "6kYEJQnPu9T1"
      }
    },
    {
      "cell_type": "markdown",
      "source": [
        "## Iterating Over a List"
      ],
      "metadata": {
        "id": "Mlzr8RCIu_kQ"
      }
    },
    {
      "cell_type": "code",
      "source": [
        "# Print each element in the list\n",
        "fruits = [\"apple\", \"banana\", \"cherry\"]\n",
        "\n",
        "for fruit in fruits:\n",
        "    print(fruit)\n",
        "# Output: apple\n",
        "#         banana\n",
        "#         cherry\n"
      ],
      "metadata": {
        "colab": {
          "base_uri": "https://localhost:8080/"
        },
        "id": "eOORhxANu-AF",
        "outputId": "8c5c9093-dbbf-488c-aa2d-1db1c839f856"
      },
      "execution_count": 238,
      "outputs": [
        {
          "output_type": "stream",
          "name": "stdout",
          "text": [
            "apple\n",
            "banana\n",
            "cherry\n"
          ]
        }
      ]
    },
    {
      "cell_type": "markdown",
      "source": [
        "## Iterating Over a String"
      ],
      "metadata": {
        "id": "1oQbqXbfvCM0"
      }
    },
    {
      "cell_type": "code",
      "source": [
        "# Print each character in the string\n",
        "word = \"hello\"\n",
        "\n",
        "for letter in word:\n",
        "    print(letter)\n",
        "# Output: h\n",
        "#         e\n",
        "#         l\n",
        "#         l\n",
        "#         o\n"
      ],
      "metadata": {
        "colab": {
          "base_uri": "https://localhost:8080/"
        },
        "id": "3HKzmWH_vDRB",
        "outputId": "729de375-4250-4bd5-ea30-c4c368bf9051"
      },
      "execution_count": 239,
      "outputs": [
        {
          "output_type": "stream",
          "name": "stdout",
          "text": [
            "h\n",
            "e\n",
            "l\n",
            "l\n",
            "o\n"
          ]
        }
      ]
    },
    {
      "cell_type": "markdown",
      "source": [
        "## Using Range in For Loop"
      ],
      "metadata": {
        "id": "h6P41GWfvE9K"
      }
    },
    {
      "cell_type": "code",
      "source": [
        "# Print numbers from 0 to 4\n",
        "for i in range(5):\n",
        "    print(i)\n",
        "# Output: 0\n",
        "#         1\n",
        "#         2\n",
        "#         3\n",
        "#         4\n"
      ],
      "metadata": {
        "colab": {
          "base_uri": "https://localhost:8080/"
        },
        "id": "6qh60yaUvGbR",
        "outputId": "7825210d-7966-4e40-f6c4-8292cc494722"
      },
      "execution_count": 240,
      "outputs": [
        {
          "output_type": "stream",
          "name": "stdout",
          "text": [
            "0\n",
            "1\n",
            "2\n",
            "3\n",
            "4\n"
          ]
        }
      ]
    },
    {
      "cell_type": "markdown",
      "source": [
        "## Nested For Loops"
      ],
      "metadata": {
        "id": "c3NfA8JhvH8H"
      }
    },
    {
      "cell_type": "code",
      "source": [
        "# Print all pairs of numbers from two lists\n",
        "list1 = [1, 2, 3]\n",
        "list2 = ['a', 'b', 'c']\n",
        "\n",
        "for num in list1:\n",
        "    for letter in list2:\n",
        "        print(f\"{num} - {letter}\")\n",
        "# Output: 1 - a\n",
        "#         1 - b\n",
        "#         1 - c\n",
        "#         2 - a\n",
        "#         2 - b\n",
        "#         2 - c\n",
        "#         3 - a\n",
        "#         3 - b\n",
        "#         3 - c\n"
      ],
      "metadata": {
        "colab": {
          "base_uri": "https://localhost:8080/"
        },
        "id": "vvh_RvsJvJLR",
        "outputId": "791852af-0e39-4af3-b737-a2730761b396"
      },
      "execution_count": 241,
      "outputs": [
        {
          "output_type": "stream",
          "name": "stdout",
          "text": [
            "1 - a\n",
            "1 - b\n",
            "1 - c\n",
            "2 - a\n",
            "2 - b\n",
            "2 - c\n",
            "3 - a\n",
            "3 - b\n",
            "3 - c\n"
          ]
        }
      ]
    },
    {
      "cell_type": "markdown",
      "source": [
        "## Iterating Over a Dictionary"
      ],
      "metadata": {
        "id": "Ns8ghQWQvKdg"
      }
    },
    {
      "cell_type": "code",
      "source": [
        "# Print each key-value pair in the dictionary\n",
        "student_grades = {\"Alice\": \"A\", \"Bob\": \"B\", \"Charlie\": \"C\"}\n",
        "\n",
        "for student, grade in student_grades.items():\n",
        "    print(f\"{student}: {grade}\")\n",
        "# Output: Alice: A\n",
        "#         Bob: B\n",
        "#         Charlie: C\n"
      ],
      "metadata": {
        "colab": {
          "base_uri": "https://localhost:8080/"
        },
        "id": "NGBjYb5hvLnE",
        "outputId": "8621af18-7a09-4460-fd04-f4f00a06d2f8"
      },
      "execution_count": 242,
      "outputs": [
        {
          "output_type": "stream",
          "name": "stdout",
          "text": [
            "Alice: A\n",
            "Bob: B\n",
            "Charlie: C\n"
          ]
        }
      ]
    },
    {
      "cell_type": "markdown",
      "source": [
        "# 8. Implementing the Range Function in Loops"
      ],
      "metadata": {
        "id": "-FP6JukqvSab"
      }
    },
    {
      "cell_type": "markdown",
      "source": [
        "## Basic Range Usage"
      ],
      "metadata": {
        "id": "OHOxdJI8vUlK"
      }
    },
    {
      "cell_type": "code",
      "source": [
        "# Print numbers from 0 to 4\n",
        "for i in range(5):\n",
        "    print(i)\n",
        "# Output: 0 1 2 3 4\n"
      ],
      "metadata": {
        "colab": {
          "base_uri": "https://localhost:8080/"
        },
        "id": "HOhRiNsQvV7h",
        "outputId": "f1cd7765-17db-4468-d0f0-663ad5874a7a"
      },
      "execution_count": 243,
      "outputs": [
        {
          "output_type": "stream",
          "name": "stdout",
          "text": [
            "0\n",
            "1\n",
            "2\n",
            "3\n",
            "4\n"
          ]
        }
      ]
    },
    {
      "cell_type": "markdown",
      "source": [
        "## Range with Start and Stop"
      ],
      "metadata": {
        "id": "X0d7-jX9vfvr"
      }
    },
    {
      "cell_type": "code",
      "source": [
        "# Print numbers from 2 to 5\n",
        "for i in range(2, 6):\n",
        "    print(i)\n",
        "# Output: 2 3 4 5\n"
      ],
      "metadata": {
        "colab": {
          "base_uri": "https://localhost:8080/"
        },
        "id": "idJTolQpvkKO",
        "outputId": "e3742295-d1c3-4c04-861b-76beee655b7e"
      },
      "execution_count": 244,
      "outputs": [
        {
          "output_type": "stream",
          "name": "stdout",
          "text": [
            "2\n",
            "3\n",
            "4\n",
            "5\n"
          ]
        }
      ]
    },
    {
      "cell_type": "markdown",
      "source": [
        "## Range with Step"
      ],
      "metadata": {
        "id": "q202qAbevlG_"
      }
    },
    {
      "cell_type": "code",
      "source": [
        "# Print every second number from 1 to 9\n",
        "for i in range(1, 10, 2):\n",
        "    print(i)\n",
        "# Output: 1 3 5 7 9\n"
      ],
      "metadata": {
        "colab": {
          "base_uri": "https://localhost:8080/"
        },
        "id": "8rW7mI5dvmeo",
        "outputId": "e5a9d6f3-af99-4883-cf8f-8fd07f3945ae"
      },
      "execution_count": 245,
      "outputs": [
        {
          "output_type": "stream",
          "name": "stdout",
          "text": [
            "1\n",
            "3\n",
            "5\n",
            "7\n",
            "9\n"
          ]
        }
      ]
    },
    {
      "cell_type": "markdown",
      "source": [
        "## Range with Negative Step"
      ],
      "metadata": {
        "id": "oeNctmd_voQ-"
      }
    },
    {
      "cell_type": "code",
      "source": [
        "# Print numbers from 10 down to 1\n",
        "for i in range(10, 0, -1):\n",
        "    print(i)\n",
        "# Output: 10 9 8 7 6 5 4 3 2 1\n"
      ],
      "metadata": {
        "colab": {
          "base_uri": "https://localhost:8080/"
        },
        "id": "y8yVPlq5vpjA",
        "outputId": "a1b77a0a-9ee4-4840-ad96-b3ad15c6af67"
      },
      "execution_count": 246,
      "outputs": [
        {
          "output_type": "stream",
          "name": "stdout",
          "text": [
            "10\n",
            "9\n",
            "8\n",
            "7\n",
            "6\n",
            "5\n",
            "4\n",
            "3\n",
            "2\n",
            "1\n"
          ]
        }
      ]
    },
    {
      "cell_type": "markdown",
      "source": [
        "## Using Range in a Nested Loop"
      ],
      "metadata": {
        "id": "I5KTaIP7vq5U"
      }
    },
    {
      "cell_type": "code",
      "source": [
        "# Print a 3x3 grid of numbers\n",
        "for i in range(3):\n",
        "    for j in range(3):\n",
        "        print(f\"({i}, {j})\", end=\" \")\n",
        "    print()\n",
        "# Output:\n",
        "# (0, 0) (0, 1) (0, 2)\n",
        "# (1, 0) (1, 1) (1, 2)\n",
        "# (2, 0) (2, 1) (2, 2)\n"
      ],
      "metadata": {
        "id": "ShsdGuiwvsVS",
        "outputId": "a8fa61df-14b7-4ac4-9bc3-8951e42138ea",
        "colab": {
          "base_uri": "https://localhost:8080/"
        }
      },
      "execution_count": 247,
      "outputs": [
        {
          "output_type": "stream",
          "name": "stdout",
          "text": [
            "(0, 0) (0, 1) (0, 2) \n",
            "(1, 0) (1, 1) (1, 2) \n",
            "(2, 0) (2, 1) (2, 2) \n"
          ]
        }
      ]
    }
  ]
}